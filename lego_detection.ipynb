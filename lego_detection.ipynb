
from roboflow import Roboflow 

rf = Roboflow(api_key="EYpTzEg9QImZhGkdf0a2")

project = rf.workspace().project("lego-8ahao")
model = project.version(1).model

# infer on a local image
print(model.predict("your_image.jpg", confidence=40, overlap=30).json())

# visualize your prediction
# model.predict("your_image.jpg", confidence=40, overlap=30).save("prediction.jpg")

# infer on an image hosted elsewhere
# print(model.predict("URL_OF_YOUR_IMAGE", hosted=True, confidence=40, overlap=30).json())

import cv2
import serial
import matplotlib.pyplot as plt
import pydotplus
from IPython.display import display, Image
import matplotlib.pyplot as plt
from gtts import gTTS
import IPython.display as ipd
from requests import get  # to make GET request

# Continuing with the code from the Roboflow part
ser = serial.Serial('/dev/ttyACM1', 9600)

model = project.version(1).model

img = cv2.imread(f"/home/mostafatarek/000my/zzz/ac/image_05-06-12-03-05.png")

img = cv2.resize(img, (512, 512))

result = model.predict(img, confidence=50, overlap=50).json()

predictions = result["predictions"][0]
output_img = predictions["image_path"]
x,y,w,h = predictions["x"], predictions["y"], predictions["width"], predictions["height"]
x1 = round(x - (w/2))
y1 = round(y - (h/2))
x2 = round(x + (w/2))
y2 = round(y + (h/2))

output_img = img[y1:y2, x1:x2]
plt.imshow(output_img)

scaled_x1 = int((x1 / img.shape[1]) * 255)
scaled_y1 = int((y1 / img.shape[0]) * 255)
scaled_x2 = int((x2 / img.shape[1]) * 255)
scaled_y2 = int((y2 / img.shape[0]) * 255)

ser.write(bytes([scaled_x1, scaled_y1, scaled_x2, scaled_y2]))

ser.flush()
distance = ser.read()

distance = int.from_bytes(distance, byteorder='big')

print("Distance: {} cm".format(distance))
